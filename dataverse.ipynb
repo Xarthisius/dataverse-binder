{
 "cells": [
  {
   "cell_type": "markdown",
   "metadata": {},
   "source": [
    "## Binder as Dataverse External Tool"
   ]
  },
  {
   "cell_type": "markdown",
   "metadata": {},
   "source": [
    "This Binder notebook demonstrates one possible approach to Dataverse External Tools integration.\n",
    "\n",
    "See the Dataverse [External Tools](http://guides.dataverse.org/en/latest/installation/external-tools.html) documentation for additional details.  In short, Dataverse adds an \"Explore\" button next to tabular data. When clicked, the `fileId` and `siteUrl` are passed to the remote service.\n",
    "\n",
    "The Dataverse Data Explorer provides an example of an external tool.  To see it in action:\n",
    "* Go to https://dataverse.harvard.edu/dataset.xhtml?persistentId=doi:10.7910/DVN/SCN9LA\n",
    "* Select \"Explore\" next to `thalpbblackaff.tab`\n",
    "* You'll be redirected to:  https://scholarsportal.github.io/Dataverse-Data-Explorer/?fileId=2865473&siteUrl=https://dataverse.harvard.edu\n",
    "\n",
    "A few notes:\n",
    "* [iqss/dataverse#5028](https://github.com/IQSS/dataverse/issues/5028) will add support for dataset-level external tools\n",
    "* It would also be possible to just read in the full dataset, just not as an integrated external tool.\n",
    "* The example dataset used below actually contains R scripts, but I'm ignoring them for now and just focusing on the data file."
   ]
  },
  {
   "cell_type": "code",
   "execution_count": null,
   "metadata": {},
   "outputs": [],
   "source": [
    "import requests\n",
    "import pandas as pd\n",
    "from xml.etree import ElementTree\n",
    "from IPython.display import display, Markdown"
   ]
  },
  {
   "cell_type": "markdown",
   "metadata": {},
   "source": [
    "Use Javascript to read the query string parameters. Inspired by [CINERGI] (happening in custom.js)"
   ]
  },
  {
   "cell_type": "code",
   "execution_count": null,
   "metadata": {},
   "outputs": [],
   "source": [
    "try:\n",
    "    print(\"Parsed query resulted in:\")\n",
    "    print(\" - meta_url = \" + meta_url)\n",
    "    print(\" - data_url = \" + data_url)\n",
    "except NameError:\n",
    "    print(\"Parsing query failed. Saaaaaad....\")\n",
    "    print(\"Did you restart the kernel without refreshing the page? That would do it...\")\n",
    "    data_url = 'https://dataverse.harvard.edu/api/access/datafile/2865473'\n",
    "    meta_url = data_url + '/metadata/ddi'"
   ]
  },
  {
   "cell_type": "markdown",
   "metadata": {},
   "source": [
    "Get the data package metadata (stolen from @xarthisius's [WIP](https://github.com/whole-tale/girder_wholetale/pull/175))"
   ]
  },
  {
   "cell_type": "code",
   "execution_count": null,
   "metadata": {},
   "outputs": [],
   "source": [
    "resp = requests.get(meta_url)\n",
    "tree = ElementTree.fromstring(resp.text)\n",
    "\n",
    "ddsc = tree.find('{http://www.icpsr.umich.edu/DDI}stdyDscr')\n",
    "citation = ddsc.find('{http://www.icpsr.umich.edu/DDI}citation')\n",
    "title_stmt = citation.find('{http://www.icpsr.umich.edu/DDI}titlStmt')\n",
    "title = title_stmt.find('{http://www.icpsr.umich.edu/DDI}titl').text\n",
    "display(Markdown('## %s' % title ))"
   ]
  },
  {
   "cell_type": "markdown",
   "metadata": {},
   "source": [
    "Now get the data and read into Pandas for display"
   ]
  },
  {
   "cell_type": "code",
   "execution_count": null,
   "metadata": {},
   "outputs": [],
   "source": [
    "df = pd.read_csv(data_url, delimiter = '\\\\t')"
   ]
  },
  {
   "cell_type": "code",
   "execution_count": null,
   "metadata": {},
   "outputs": [],
   "source": [
    "df.head()"
   ]
  },
  {
   "cell_type": "markdown",
   "metadata": {},
   "source": [
    "This is just a proof-of-concept and leaves much to be desired.  "
   ]
  }
 ],
 "metadata": {
  "kernelspec": {
   "display_name": "Python 3",
   "language": "python",
   "name": "python3"
  },
  "language_info": {
   "codemirror_mode": {
    "name": "ipython",
    "version": 3
   },
   "file_extension": ".py",
   "mimetype": "text/x-python",
   "name": "python",
   "nbconvert_exporter": "python",
   "pygments_lexer": "ipython3",
   "version": "3.6.6"
  }
 },
 "nbformat": 4,
 "nbformat_minor": 2
}
